{
 "cells": [
  {
   "cell_type": "code",
   "execution_count": 1,
   "metadata": {},
   "outputs": [
    {
     "name": "stdout",
     "output_type": "stream",
     "text": [
      "/home/u49282/ai-labs/07_Distributed_AI/daal4py-distributed/kmeans\n"
     ]
    }
   ],
   "source": [
    "!pwd\n"
   ]
  },
  {
   "cell_type": "code",
   "execution_count": 2,
   "metadata": {},
   "outputs": [
    {
     "name": "stdout",
     "output_type": "stream",
     "text": [
      "Writing kmeans-d4py-1nodes.sh\n"
     ]
    }
   ],
   "source": [
    "%%writefile kmeans-d4py-1nodes.sh\n",
    "#!/bin/bash\n",
    "#PBS -l nodes=1:ppn=1\n",
    "#PBS -l walltime=2:00:00\n",
    "#PBS -V\n",
    "\n",
    "cd /home/u49282/ai-labs/07_Distributed_AI/daal4py-distributed/kmeans\n",
    "cat $PBS_NODEFILE\n",
    "echo \"* Hello world from compute server `hostname`!\"\n",
    "echo \"* Compute server's CPU model and number of logical CPUs:\"\n",
    "lscpu | grep 'Model name\\\\|^CPU(s)'\n",
    "\n",
    "mpirun -prepend-rank -genv OMP_NUM_THREADS=2 -genv I_MPI_DEBUG=5 -n 1 -ppn 1 python kmeans-daal4py-distributed.py\n",
    "\n"
   ]
  },
  {
   "cell_type": "code",
   "execution_count": 3,
   "metadata": {},
   "outputs": [
    {
     "name": "stdout",
     "output_type": "stream",
     "text": [
      "707478.v-qsvr-1.aidevcloud\n"
     ]
    }
   ],
   "source": [
    "!qsub kmeans-d4py-1nodes.sh"
   ]
  },
  {
   "cell_type": "code",
   "execution_count": 4,
   "metadata": {},
   "outputs": [
    {
     "name": "stdout",
     "output_type": "stream",
     "text": [
      "Writing kmeans-d4py-2nodes.sh\n"
     ]
    }
   ],
   "source": [
    "%%writefile kmeans-d4py-2nodes.sh\n",
    "#!/bin/bash\n",
    "#PBS -l nodes=2:ppn=1\n",
    "#PBS -l walltime=2:00:00\n",
    "#PBS -V\n",
    "\n",
    "cd /home/u49282/ai-labs/07_Distributed_AI/daal4py-distributed/kmeans\n",
    "cat $PBS_NODEFILE\n",
    "echo \"* Hello world from compute server `hostname`!\"\n",
    "echo \"* Compute server's CPU model and number of logical CPUs:\"\n",
    "lscpu | grep 'Model name\\\\|^CPU(s)'\n",
    "\n",
    "mpirun -prepend-rank -genv OMP_NUM_THREADS=2 -genv I_MPI_DEBUG=5 -n 2 -ppn 1 python kmeans-daal4py-distributed.py\n",
    "\n"
   ]
  },
  {
   "cell_type": "code",
   "execution_count": 5,
   "metadata": {},
   "outputs": [
    {
     "name": "stdout",
     "output_type": "stream",
     "text": [
      "707479.v-qsvr-1.aidevcloud\n"
     ]
    }
   ],
   "source": [
    "!qsub kmeans-d4py-2nodes.sh"
   ]
  },
  {
   "cell_type": "code",
   "execution_count": 7,
   "metadata": {},
   "outputs": [
    {
     "name": "stdout",
     "output_type": "stream",
     "text": [
      "Overwriting kmeans-d4py-4nodes.sh\n"
     ]
    }
   ],
   "source": [
    "%%writefile kmeans-d4py-4nodes.sh\n",
    "#!/bin/bash\n",
    "#PBS -l nodes=4:ppn=1\n",
    "#PBS -l walltime=2:00:00\n",
    "#PBS -V\n",
    "\n",
    "cd /home/u49282/ai-labs/07_Distributed_AI/daal4py-distributed/kmeans\n",
    "cat $PBS_NODEFILE\n",
    "echo \"* Hello world from compute server `hostname`!\"\n",
    "echo \"* Compute server's CPU model and number of logical CPUs:\"\n",
    "lscpu | grep 'Model name\\\\|^CPU(s)'\n",
    "\n",
    "mpirun -prepend-rank -genv OMP_NUM_THREADS=2 -genv I_MPI_DEBUG=5 -n 4 -ppn 1 python kmeans-daal4py-distributed.py\n"
   ]
  },
  {
   "cell_type": "code",
   "execution_count": 8,
   "metadata": {},
   "outputs": [
    {
     "name": "stdout",
     "output_type": "stream",
     "text": [
      "707480.v-qsvr-1.aidevcloud\n"
     ]
    }
   ],
   "source": [
    "!qsub kmeans-d4py-4nodes.sh"
   ]
  },
  {
   "cell_type": "code",
   "execution_count": 11,
   "metadata": {},
   "outputs": [
    {
     "name": "stdout",
     "output_type": "stream",
     "text": [
      "Job ID                    Name             User            Time Use S Queue\n",
      "------------------------- ---------------- --------------- -------- - -----\n",
      "707452.v-qsvr-1            ...ub-singleuser u49282          00:00:30 R jupyterhub     \n"
     ]
    }
   ],
   "source": [
    "!qstat"
   ]
  },
  {
   "cell_type": "code",
   "execution_count": null,
   "metadata": {},
   "outputs": [],
   "source": []
  },
  {
   "cell_type": "code",
   "execution_count": 12,
   "metadata": {},
   "outputs": [
    {
     "name": "stdout",
     "output_type": "stream",
     "text": [
      "\n",
      "########################################################################\n",
      "#      Date:           Fri Oct  9 02:34:30 PDT 2020\n",
      "#    Job ID:           707478.v-qsvr-1.aidevcloud\n",
      "#      User:           u49282\n",
      "# Resources:           neednodes=1:ppn=2,nodes=1:ppn=2,walltime=02:00:00\n",
      "########################################################################\n",
      "\n",
      "s001-n056\n",
      "s001-n056\n",
      "* Hello world from compute server s001-n056!\n",
      "* Compute server's CPU model and number of logical CPUs:\n",
      "CPU(s):              24\n",
      "Model name:          Intel(R) Xeon(R) Gold 6128 CPU @ 3.40GHz\n",
      "[0] [0] MPI startup(): Intel(R) MPI Library, Version 2021.1-beta09  Build 20200826 (id: c9cd996ec)\n",
      "[0] [0] MPI startup(): Copyright (C) 2003-2020 Intel Corporation.  All rights reserved.\n",
      "[0] [0] MPI startup(): library kind: release\n",
      "[0] [0] MPI startup(): libfabric version: 1.10.1-impi\n",
      "[0] [0] MPI startup(): libfabric provider: tcp;ofi_rxm\n",
      "[0] [0] MPI startup(): Rank    Pid      Node name  Pin cpu\n",
      "[0] [0] MPI startup(): 0       20581    s001-n056  {0,1,2,3,4,5,6,7,8,9,10,11,12,13,14,15,16,17,18,19,20,21,22,23}\n",
      "[0] [0] MPI startup(): I_MPI_ROOT=/glob/development-tools/versions/oneapi/beta09/inteloneapi/mpi/2021.1-beta09\n",
      "[0] [0] MPI startup(): I_MPI_MPIRUN=mpirun\n",
      "[0] [0] MPI startup(): I_MPI_HYDRA_RMK=pbs\n",
      "[0] [0] MPI startup(): I_MPI_HYDRA_TOPOLIB=hwloc\n",
      "[0] [0] MPI startup(): I_MPI_INTERNAL_MEM_POLICY=default\n",
      "[0] [0] MPI startup(): I_MPI_DEBUG=5\n",
      "[0] Number of MPI tasks:  1\n",
      "[0] Fitting model on the data\n",
      "[0] Computation finished in in 4.111s.\n",
      "[0] Predicting color indices on the full image (k-means)\n",
      "[0]   Completed in 0.033s.\n",
      "\n",
      "########################################################################\n",
      "# End of output for job 707478.v-qsvr-1.aidevcloud\n",
      "# Date: Fri Oct  9 02:34:45 PDT 2020\n",
      "########################################################################\n",
      "\n"
     ]
    }
   ],
   "source": [
    "!cat kmeans-d4py-1nodes.sh.o*"
   ]
  },
  {
   "cell_type": "code",
   "execution_count": 13,
   "metadata": {},
   "outputs": [
    {
     "name": "stdout",
     "output_type": "stream",
     "text": [
      "\n",
      "########################################################################\n",
      "#      Date:           Fri Oct  9 02:34:39 PDT 2020\n",
      "#    Job ID:           707479.v-qsvr-1.aidevcloud\n",
      "#      User:           u49282\n",
      "# Resources:           neednodes=2:ppn=2,nodes=2:ppn=2,walltime=02:00:00\n",
      "########################################################################\n",
      "\n",
      "s001-n074\n",
      "s001-n074\n",
      "s001-n031\n",
      "s001-n031\n",
      "* Hello world from compute server s001-n074!\n",
      "* Compute server's CPU model and number of logical CPUs:\n",
      "CPU(s):              24\n",
      "Model name:          Intel(R) Xeon(R) Gold 6128 CPU @ 3.40GHz\n",
      "[0] [0] MPI startup(): Intel(R) MPI Library, Version 2021.1-beta09  Build 20200826 (id: c9cd996ec)\n",
      "[0] [0] MPI startup(): Copyright (C) 2003-2020 Intel Corporation.  All rights reserved.\n",
      "[0] [0] MPI startup(): library kind: release\n",
      "[0] [0] MPI startup(): libfabric version: 1.10.1-impi\n",
      "[0] [0] MPI startup(): libfabric provider: tcp;ofi_rxm\n",
      "[0] [0] MPI startup(): Rank    Pid      Node name  Pin cpu\n",
      "[0] [0] MPI startup(): 0       11247    s001-n074  {0,1,2,3,4,5,12,13,14,15,16,17}\n",
      "[0] [0] MPI startup(): 1       11248    s001-n074  {6,7,8,9,10,11,18,19,20,21,22,23}\n",
      "[0] [0] MPI startup(): I_MPI_ROOT=/glob/development-tools/versions/oneapi/beta09/inteloneapi/mpi/2021.1-beta09\n",
      "[0] [0] MPI startup(): I_MPI_MPIRUN=mpirun\n",
      "[0] [0] MPI startup(): I_MPI_HYDRA_RMK=pbs\n",
      "[0] [0] MPI startup(): I_MPI_HYDRA_TOPOLIB=hwloc\n",
      "[0] [0] MPI startup(): I_MPI_INTERNAL_MEM_POLICY=default\n",
      "[0] [0] MPI startup(): I_MPI_DEBUG=5\n",
      "[1] Number of MPI tasks:  2\n",
      "[1] Fitting model on the data\n",
      "[1] Computation finished in in 3.788s.\n",
      "[1] Predicting color indices on the full image (k-means)\n",
      "[1]   Completed in 0.025s.\n",
      "[0] Number of MPI tasks:  2\n",
      "[0] Fitting model on the data\n",
      "[0] Computation finished in in 3.787s.\n",
      "[0] Predicting color indices on the full image (k-means)\n",
      "[0]   Completed in 0.026s.\n",
      "\n",
      "########################################################################\n",
      "# End of output for job 707479.v-qsvr-1.aidevcloud\n",
      "# Date: Fri Oct  9 02:34:55 PDT 2020\n",
      "########################################################################\n",
      "\n"
     ]
    }
   ],
   "source": [
    "!cat kmeans-d4py-2nodes.sh.o*"
   ]
  },
  {
   "cell_type": "code",
   "execution_count": 14,
   "metadata": {},
   "outputs": [
    {
     "name": "stdout",
     "output_type": "stream",
     "text": [
      "\n",
      "########################################################################\n",
      "#      Date:           Fri Oct  9 02:34:51 PDT 2020\n",
      "#    Job ID:           707480.v-qsvr-1.aidevcloud\n",
      "#      User:           u49282\n",
      "# Resources:           neednodes=4:ppn=2,nodes=4:ppn=2,walltime=02:00:00\n",
      "########################################################################\n",
      "\n",
      "s001-n056\n",
      "s001-n056\n",
      "s001-n075\n",
      "s001-n075\n",
      "s001-n032\n",
      "s001-n032\n",
      "s001-n076\n",
      "s001-n076\n",
      "* Hello world from compute server s001-n056!\n",
      "* Compute server's CPU model and number of logical CPUs:\n",
      "CPU(s):              24\n",
      "Model name:          Intel(R) Xeon(R) Gold 6128 CPU @ 3.40GHz\n",
      "[0] [0] MPI startup(): Intel(R) MPI Library, Version 2021.1-beta09  Build 20200826 (id: c9cd996ec)\n",
      "[0] [0] MPI startup(): Copyright (C) 2003-2020 Intel Corporation.  All rights reserved.\n",
      "[0] [0] MPI startup(): library kind: release\n",
      "[0] [0] MPI startup(): libfabric version: 1.10.1-impi\n",
      "[0] [0] MPI startup(): libfabric provider: tcp;ofi_rxm\n",
      "[0] [0] MPI startup(): Rank    Pid      Node name  Pin cpu\n",
      "[0] [0] MPI startup(): 0       21300    s001-n056  {0,1,2,3,4,5,12,13,14,15,16,17}\n",
      "[0] [0] MPI startup(): 1       21301    s001-n056  {6,7,8,9,10,11,18,19,20,21,22,23}\n",
      "[0] [0] MPI startup(): 2       27537    s001-n075  {0,1,2,3,4,5,12,13,14,15,16,17}\n",
      "[0] [0] MPI startup(): 3       27538    s001-n075  {6,7,8,9,10,11,18,19,20,21,22,23}\n",
      "[0] [0] MPI startup(): I_MPI_ROOT=/glob/development-tools/versions/oneapi/beta09/inteloneapi/mpi/2021.1-beta09\n",
      "[0] [0] MPI startup(): I_MPI_MPIRUN=mpirun\n",
      "[0] [0] MPI startup(): I_MPI_HYDRA_RMK=pbs\n",
      "[0] [0] MPI startup(): I_MPI_HYDRA_TOPOLIB=hwloc\n",
      "[0] [0] MPI startup(): I_MPI_INTERNAL_MEM_POLICY=default\n",
      "[0] [0] MPI startup(): I_MPI_DEBUG=5\n",
      "[0] Number of MPI tasks:  4\n",
      "[0] Fitting model on the data\n",
      "[0] Computation finished in in 1.705s.\n",
      "[0] Predicting color indices on the full image (k-means)\n",
      "[0]   Completed in 0.013s.\n",
      "[1] Number of MPI tasks:  4\n",
      "[1] Fitting model on the data\n",
      "[1] Computation finished in in 1.727s.\n",
      "[1] Predicting color indices on the full image (k-means)\n",
      "[1]   Completed in 0.013s.\n",
      "[2] Number of MPI tasks:  4\n",
      "[2] Fitting model on the data\n",
      "[2] Computation finished in in 1.705s.\n",
      "[2] Predicting color indices on the full image (k-means)\n",
      "[2]   Completed in 0.016s.\n",
      "[3] Number of MPI tasks:  4\n",
      "[3] Fitting model on the data\n",
      "[3] Computation finished in in 1.726s.\n",
      "[3] Predicting color indices on the full image (k-means)\n",
      "[3]   Completed in 0.016s.\n",
      "\n",
      "########################################################################\n",
      "# End of output for job 707480.v-qsvr-1.aidevcloud\n",
      "# Date: Fri Oct  9 02:35:05 PDT 2020\n",
      "########################################################################\n",
      "\n"
     ]
    }
   ],
   "source": [
    "!cat kmeans-d4py-4nodes.sh.o*"
   ]
  },
  {
   "cell_type": "code",
   "execution_count": null,
   "metadata": {},
   "outputs": [],
   "source": []
  },
  {
   "cell_type": "code",
   "execution_count": null,
   "metadata": {},
   "outputs": [],
   "source": []
  }
 ],
 "metadata": {
  "kernelspec": {
   "display_name": "Python 3.7 (Intel® oneAPI)",
   "language": "python",
   "name": "c009-intel_distribution_of_python_3_oneapi-beta05-python"
  },
  "language_info": {
   "codemirror_mode": {
    "name": "ipython",
    "version": 3
   },
   "file_extension": ".py",
   "mimetype": "text/x-python",
   "name": "python",
   "nbconvert_exporter": "python",
   "pygments_lexer": "ipython3",
   "version": "3.7.7"
  }
 },
 "nbformat": 4,
 "nbformat_minor": 4
}
