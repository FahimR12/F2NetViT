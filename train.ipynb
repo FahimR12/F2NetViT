{
 "cells": [
  {
   "cell_type": "markdown",
   "metadata": {},
   "source": [
    "Check the dataset if it has all the files for validation purposes\n",
    "if it miss a modality or any label then it will create problem during training"
   ]
  },
  {
   "cell_type": "code",
   "execution_count": 4,
   "metadata": {},
   "outputs": [
    {
     "name": "stdout",
     "output_type": "stream",
     "text": [
      "There are 1350 cases\n",
      "INFO: No issue found\n"
     ]
    }
   ],
   "source": [
    "import os\n",
    "import argparse \n",
    "from utils.check_dataset import check\n",
    "!python utils/check_dataset.py"
   ]
  },
  {
   "cell_type": "markdown",
   "metadata": {},
   "source": [
    "load these YAML files in your script"
   ]
  },
  {
   "cell_type": "code",
   "execution_count": 8,
   "metadata": {},
   "outputs": [
    {
     "name": "stdout",
     "output_type": "stream",
     "text": [
      "Model Config: {'roi': 128, 'infer_overlap': 0.5}\n",
      "Dataset Config: {'a_test_patient': '/BraTS-GLI-03064-100', 'dataset_xlsx': '/Dataset/BraTS2023_2017_GLI_Mapping.xlsx', 'json_file': '/Dataset/dataset.json', 'root_dir': '/home/fahim/F2NetViT', 'train_sub_dir': '/Dataset/BraTS2024-BraTS-GLI-TrainingData/training_data1_v2', 'validation_sub_dir': '/Dataset/BraTS2024-BraTS-GLI-ValidationData'}\n",
      "Training Config: {'batch_size': 1, 'num_workers': 8, 'fold': 0, 'infer_overlap': 0.6, 'learning_rate': 0.0001, 'max_epochs': 10, 'pretrained_model': '', 'seed': 50, 'sw_batch_size': 1, 'val_every': 2, 'weight_decay': 1e-05}\n",
      "Paths Config: {'dataset_file': '/home/fahim/F2NetViT/Dataset/BraTS2023_2017_GLI_Mapping.xlsx', 'json_file': '/home/fahim/F2NetViT/Dataset/dataset.json', 'test_patient': '/home/fahim/F2NetViT/Dataset/BraTS2024-BraTS-GLI-TrainingData/training_data1_v2/BraTS-GLI-03064-100/', 'train_path': '/home/fahim/F2NetViT/Dataset/BraTS2024-BraTS-GLI-TrainingData/training_data1_v2/', 'validation_path': '/home/fahim/F2NetViT/Dataset/BraTS2024-BraTS-GLI-ValidationData/'}\n",
      "Model Config: {'roi': 128, 'infer_overlap': 0.5}\n",
      "Dataset Config: {'a_test_patient': '/BraTS-GLI-03064-100', 'dataset_xlsx': '/Dataset/BraTS2023_2017_GLI_Mapping.xlsx', 'json_file': '/Dataset/dataset.json', 'root_dir': '/home/fahim/F2NetViT', 'train_sub_dir': '/Dataset/BraTS2024-BraTS-GLI-TrainingData/training_data1_v2', 'validation_sub_dir': '/Dataset/BraTS2024-BraTS-GLI-ValidationData'}\n",
      "Training Config: {'batch_size': 1, 'num_workers': 8, 'fold': 0, 'infer_overlap': 0.6, 'learning_rate': 0.0001, 'max_epochs': 10, 'pretrained_model': '', 'seed': 50, 'sw_batch_size': 1, 'val_every': 2, 'weight_decay': 1e-05}\n",
      "Paths Config: {'dataset_file': '/home/fahim/F2NetViT/Dataset/BraTS2023_2017_GLI_Mapping.xlsx', 'json_file': '/home/fahim/F2NetViT/Dataset/dataset.json', 'test_patient': '/home/fahim/F2NetViT/Dataset/BraTS2024-BraTS-GLI-TrainingData/training_data1_v2/BraTS-GLI-03064-100/', 'train_path': '/home/fahim/F2NetViT/Dataset/BraTS2024-BraTS-GLI-TrainingData/training_data1_v2/', 'validation_path': '/home/fahim/F2NetViT/Dataset/BraTS2024-BraTS-GLI-ValidationData/'}\n"
     ]
    }
   ],
   "source": [
    "import yaml\n",
    "\n",
    "import os\n",
    "from pathlib import Path\n",
    "\n",
    "# Manually define the project root\n",
    "project_root = Path('/home/fahim/F2NetViT')  # Set this to your project's root directory\n",
    "config_path = project_root / 'config'\n",
    "\n",
    "# Example: Load a YAML configuration\n",
    "import yaml\n",
    "\n",
    "with open(config_path / 'model/default.yaml') as f:\n",
    "    model_config = yaml.safe_load(f)\n",
    "# Load all configurations\n",
    "\n",
    "with open(config_path / 'dataset/default.yaml') as f:\n",
    "    dataset_config = yaml.safe_load(f)\n",
    "\n",
    "with open(config_path / 'training/default.yaml') as f:\n",
    "    training_config = yaml.safe_load(f)\n",
    "\n",
    "with open(config_path / 'paths/default.yaml') as f:\n",
    "    paths_config = yaml.safe_load(f)\n",
    "    \n",
    "# Use these configurations in your script\n",
    "print(f\"Model Config: {model_config}\")\n",
    "print(f\"Dataset Config: {dataset_config}\")\n",
    "print(f\"Training Config: {training_config}\")\n",
    "print(f\"Paths Config: {paths_config}\")\n",
    "\n",
    "\n",
    "\n",
    "\n",
    "\n",
    "# Example access\n",
    "root_dir = paths_config.get('root_dir')\n",
    "train_root_dir = dataset_config.get('train_root_dir')\n",
    "\n",
    "# Use these configurations in your script\n",
    "print(f\"Model Config: {model_config}\")\n",
    "print(f\"Dataset Config: {dataset_config}\")\n",
    "print(f\"Training Config: {training_config}\")\n",
    "print(f\"Paths Config: {paths_config}\")\n"
   ]
  },
  {
   "cell_type": "code",
   "execution_count": null,
   "metadata": {},
   "outputs": [],
   "source": [
    "# Example paths; adjust as necessary\n",
    "from utils.generate_dataset_json_file import generate_json_file\n",
    "\n",
    "generate_json_file(configs.Config.newGlobalConfigs.root_dir, 'dataset.json')\n"
   ]
  }
 ],
 "metadata": {
  "kernelspec": {
   "display_name": "brats_segmentation",
   "language": "python",
   "name": "python3"
  },
  "language_info": {
   "codemirror_mode": {
    "name": "ipython",
    "version": 3
   },
   "file_extension": ".py",
   "mimetype": "text/x-python",
   "name": "python",
   "nbconvert_exporter": "python",
   "pygments_lexer": "ipython3",
   "version": "3.12.4"
  }
 },
 "nbformat": 4,
 "nbformat_minor": 2
}
